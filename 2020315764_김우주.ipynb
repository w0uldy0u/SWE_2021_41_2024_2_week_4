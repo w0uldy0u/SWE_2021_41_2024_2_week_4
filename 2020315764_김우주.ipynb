{
  "nbformat": 4,
  "nbformat_minor": 0,
  "metadata": {
    "colab": {
      "provenance": [],
      "gpuType": "T4"
    },
    "kernelspec": {
      "name": "python3",
      "display_name": "Python 3"
    },
    "language_info": {
      "name": "python"
    },
    "accelerator": "GPU"
  },
  "cells": [
    {
      "cell_type": "markdown",
      "source": [
        "## Task\n",
        "- Complete **isHappy** function following the description below\n",
        "\n",
        "### Happy Number\n",
        "Write an algorithm to determine if a number **n** is happy.\n",
        "\n",
        "A **happy number** is a number defined by the following process:\n",
        "\n",
        "* Starting with any positive integer, replace the number by the sum of the squares of its digits.\n",
        "* Repeat the process until the number equals 1 (where it will stay), or it **loops endlessly in a cycle** which does not include 1.\n",
        "* Those numbers for which this process **ends in 1** are happy.\n",
        "\n",
        "Return **true** if n is a happy number, and **false** if not.\n",
        "\n",
        "Constraints:\n",
        "1 <= n <= $2^{31}$ - 1"
      ],
      "metadata": {
        "id": "TV3Socqg8BVl"
      }
    },
    {
      "cell_type": "code",
      "execution_count": null,
      "metadata": {
        "id": "5FcxitVf5kdQ",
        "colab": {
          "base_uri": "https://localhost:8080/"
        },
        "outputId": "405744d5-e8bd-4320-82f8-11dc63a9755b"
      },
      "outputs": [
        {
          "output_type": "stream",
          "name": "stdout",
          "text": [
            "true\n"
          ]
        }
      ],
      "source": [
        "def isHappy(n):\n",
        "  while True:\n",
        "    temp = 0\n",
        "\n",
        "    for i in str(n):\n",
        "      temp += int(i) ** 2\n",
        "\n",
        "    n = temp\n",
        "\n",
        "    if n == 4:\n",
        "      return False\n",
        "    elif n == 1:\n",
        "      return True"
      ]
    },
    {
      "cell_type": "markdown",
      "source": [
        "**Testcase 1.**\n",
        "\n",
        "**Input**: 19\n",
        "\n",
        "**Output**: True\n",
        "\n",
        "**Explanation**:\n",
        "\n",
        "$1^2 + 9^2 = 82$\n",
        "\n",
        "$8^2 + 2^2 = 68$\n",
        "\n",
        "$6^2 + 8^2 = 100$\n",
        "\n",
        "$1^2 + 0^2 + 0^2 = 1$"
      ],
      "metadata": {
        "id": "eRrh24Ognrqf"
      }
    },
    {
      "cell_type": "markdown",
      "source": [
        "**Testcase 2.**\n",
        "\n",
        "**Input**: 2\n",
        "\n",
        "**Output**: False"
      ],
      "metadata": {
        "id": "dE7YMY8qoPoj"
      }
    }
  ]
}